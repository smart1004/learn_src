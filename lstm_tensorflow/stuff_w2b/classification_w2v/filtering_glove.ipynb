{
 "cells": [
  {
   "cell_type": "code",
   "execution_count": 1,
   "metadata": {
    "collapsed": true
   },
   "outputs": [],
   "source": [
    "glove50 = '/Users/nadbordrozd/workspace/duedil_repos/experiments/similarity/data/glove.6B.50d.txt'"
   ]
  },
  {
   "cell_type": "code",
   "execution_count": 2,
   "metadata": {
    "collapsed": true
   },
   "outputs": [],
   "source": [
    "p1 = \"r8-train-all-terms.txt\"\n",
    "p2 = \"r8-test-all-terms.txt\"\n",
    "p3 = \"r52-train-all-terms.txt\"\n",
    "p4 = \"r52-test-all-terms.txt\"\n",
    "p5 = \"20ng-train-no-stop.txt\"\n",
    "p6 = \"20ng-train-no-stop.txt\""
   ]
  },
  {
   "cell_type": "code",
   "execution_count": 3,
   "metadata": {
    "collapsed": false
   },
   "outputs": [],
   "source": [
    "tot = set()\n",
    "for p in [p1, p2, p3, p4, p5, p6]:\n",
    "    with open(p, \"rb\") as inf:\n",
    "        for line in inf:\n",
    "            for token in line.split():\n",
    "                tot.add(token)"
   ]
  },
  {
   "cell_type": "code",
   "execution_count": 4,
   "metadata": {
    "collapsed": false
   },
   "outputs": [
    {
     "data": {
      "text/plain": [
       "84360"
      ]
     },
     "execution_count": 4,
     "metadata": {},
     "output_type": "execute_result"
    }
   ],
   "source": [
    "len(tot)"
   ]
  },
  {
   "cell_type": "code",
   "execution_count": 5,
   "metadata": {
    "collapsed": false
   },
   "outputs": [],
   "source": [
    "with open(\"glove.6B.50d.txt\", \"rb\") as inf, open(\"glove50\", \"wb\") as out:\n",
    "    for line in inf:\n",
    "        if line.split()[0] in tot:\n",
    "            out.write(line)"
   ]
  },
  {
   "cell_type": "code",
   "execution_count": null,
   "metadata": {
    "collapsed": true
   },
   "outputs": [],
   "source": []
  }
 ],
 "metadata": {
  "kernelspec": {
   "display_name": "Python 2",
   "language": "python",
   "name": "python2"
  },
  "language_info": {
   "codemirror_mode": {
    "name": "ipython",
    "version": 2
   },
   "file_extension": ".py",
   "mimetype": "text/x-python",
   "name": "python",
   "nbconvert_exporter": "python",
   "pygments_lexer": "ipython2",
   "version": "2.7.8"
  }
 },
 "nbformat": 4,
 "nbformat_minor": 0
}
