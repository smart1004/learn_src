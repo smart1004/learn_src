{
 "cells": [
  {
   "cell_type": "markdown",
   "metadata": {},
   "source": [
    "# TensorFlowと共に使ってみよう\n",
    "\n",
    "以下のような宣言を一番先にしておくと便利。"
   ]
  },
  {
   "cell_type": "code",
   "execution_count": 2,
   "metadata": {
    "collapsed": true
   },
   "outputs": [],
   "source": [
    "%matplotlib inline\n",
    "import matplotlib.pyplot as plt\n",
    "import numpy as np\n",
    "import pandas as pd\n",
    "import tensorflow as tf"
   ]
  },
  {
   "cell_type": "code",
   "execution_count": 8,
   "metadata": {
    "collapsed": false
   },
   "outputs": [
    {
     "name": "stdout",
     "output_type": "stream",
     "text": [
      "150\n"
     ]
    }
   ],
   "source": [
    "# a + bの計算式\n",
    "a = tf.constant(100)\n",
    "b = tf.constant(50)\n",
    "add_op = a + b\n",
    "# 変数vを宣言\n",
    "v = tf.Variable(0)\n",
    "# 変数vにadd_opの結果を代入\n",
    "let_op = tf.assign(v, add_op)\n",
    "\n",
    "# セッションを開始\n",
    "sess = tf.Session()\n",
    "# 変数の初期化\n",
    "sess.run(tf.initialize_all_variables())\n",
    "# let_opを実行\n",
    "sess.run(let_op)\n",
    "# 変数の内容を表示\n",
    "print(sess.run(v))"
   ]
  },
  {
   "cell_type": "code",
   "execution_count": null,
   "metadata": {
    "collapsed": true
   },
   "outputs": [],
   "source": []
  }
 ],
 "metadata": {
  "kernelspec": {
   "display_name": "Python 3",
   "language": "python",
   "name": "python3"
  },
  "language_info": {
   "codemirror_mode": {
    "name": "ipython",
    "version": 3
   },
   "file_extension": ".py",
   "mimetype": "text/x-python",
   "name": "python",
   "nbconvert_exporter": "python",
   "pygments_lexer": "ipython3",
   "version": "3.5.1"
  }
 },
 "nbformat": 4,
 "nbformat_minor": 1
}
