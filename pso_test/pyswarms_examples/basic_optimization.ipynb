{
 "cells": [
  {
   "cell_type": "markdown",
   "metadata": {},
   "source": [
    "# Basic Optimization\n",
    "In this example, we'll be performing a simple optimization of single-objective functions using the global-best optimizer in `pyswarms.single.GBestPSO` and the local-best optimizer in `pyswarms.single.LBestPSO`. This aims to demonstrate the basic capabilities of the library when applied to benchmark problems."
   ]
  },
  {
   "cell_type": "code",
   "execution_count": 2,
   "metadata": {},
   "outputs": [],
   "source": [
    "import sys\n",
    "sys.path.append('../')"
   ]
  },
  {
   "cell_type": "code",
   "execution_count": 3,
   "metadata": {},
   "outputs": [],
   "source": [
    "# Import modules\n",
    "import numpy as np\n",
    "\n",
    "# Import PySwarms\n",
    "import pyswarms as ps\n",
    "from pyswarms.utils.functions import single_obj as fx\n",
    "\n",
    "# Some more magic so that the notebook will reload external python modules;\n",
    "# see http://stackoverflow.com/questions/1907993/autoreload-of-modules-in-ipython\n",
    "%load_ext autoreload\n",
    "%autoreload 2"
   ]
  },
  {
   "cell_type": "markdown",
   "metadata": {},
   "source": [
    "## Optimizing a function\n",
    "First, let's start by optimizing the sphere function. Recall that the minima of this function can be located at `f(0,0..,0)` with a value of `0`. In case you don't remember the characteristics of a given function, simply call `help(<function>)`."
   ]
  },
  {
   "cell_type": "markdown",
   "metadata": {},
   "source": [
    "For now let's just set some arbitrary parameters in our optimizers. There are, at minimum, three steps to perform optimization:\n",
    "\n",
    "1. Set the hyperparameters to configure the swarm as a `dict`.\n",
    "2. Create an instance of the optimizer by passing the dictionary along with the necessary arguments.\n",
    "3. Call the `optimize()` method and have it store the optimal cost and position in a variable.\n",
    "\n",
    "The `optimize()` method returns a `tuple` of values, one of which includes the optimal cost and position after optimization. You can store it in a single variable and just index the values, or unpack it using several variables at once."
   ]
  },
  {
   "cell_type": "code",
   "execution_count": 4,
   "metadata": {},
   "outputs": [
    {
     "name": "stderr",
     "output_type": "stream",
     "text": [
      "INFO:pyswarms.single.global_best:Iteration 1/1000, cost: 0.04874793790723398\n",
      "INFO:pyswarms.single.global_best:Iteration 101/1000, cost: 2.917281509281028e-07\n",
      "INFO:pyswarms.single.global_best:Iteration 201/1000, cost: 3.847370841552941e-12\n",
      "INFO:pyswarms.single.global_best:Iteration 301/1000, cost: 2.507817693584806e-15\n",
      "INFO:pyswarms.single.global_best:Iteration 401/1000, cost: 1.1322238638500493e-21\n",
      "INFO:pyswarms.single.global_best:Iteration 501/1000, cost: 1.3753788393040318e-24\n",
      "INFO:pyswarms.single.global_best:Iteration 601/1000, cost: 3.2012143051050106e-30\n",
      "INFO:pyswarms.single.global_best:Iteration 701/1000, cost: 3.965878935511295e-34\n",
      "INFO:pyswarms.single.global_best:Iteration 801/1000, cost: 3.952585342636471e-36\n",
      "INFO:pyswarms.single.global_best:Iteration 901/1000, cost: 5.32345162249817e-40\n",
      "INFO:pyswarms.single.global_best:================================\n",
      "Optimization finished!\n",
      "Final cost: 0.0000\n",
      "Best value: [9.691880474185782e-22, 2.133518760890864e-22]\n",
      "\n"
     ]
    }
   ],
   "source": [
    "# Set-up hyperparameters\n",
    "options = {'c1': 0.5, 'c2': 0.3, 'w':0.9}\n",
    "\n",
    "# Call instance of PSO\n",
    "optimizer = ps.single.GlobalBestPSO(n_particles=10, dimensions=2, options=options)\n",
    "\n",
    "# Perform optimization\n",
    "cost, pos = optimizer.optimize(fx.sphere_func, print_step=100, iters=1000, verbose=3)"
   ]
  },
  {
   "cell_type": "markdown",
   "metadata": {},
   "source": [
    "We can see that the optimizer was able to find a good minima as shown above. You can control the verbosity of the output using the `verbose` argument, and the number of steps to be printed out using the `print_step` argument."
   ]
  },
  {
   "cell_type": "markdown",
   "metadata": {},
   "source": [
    "Now, let's try this one using local-best PSO:"
   ]
  },
  {
   "cell_type": "code",
   "execution_count": 5,
   "metadata": {
    "scrolled": true
   },
   "outputs": [
    {
     "name": "stderr",
     "output_type": "stream",
     "text": [
      "INFO:pyswarms.single.local_best:Iteration 1/1000, cost: 0.11570205023140093\n",
      "INFO:pyswarms.single.local_best:Iteration 101/1000, cost: 1.3855663561862029e-06\n",
      "INFO:pyswarms.single.local_best:Iteration 201/1000, cost: 5.889885097164059e-13\n",
      "INFO:pyswarms.single.local_best:Iteration 301/1000, cost: 9.468559293457504e-16\n",
      "INFO:pyswarms.single.local_best:Iteration 401/1000, cost: 1.7017716985350893e-20\n",
      "INFO:pyswarms.single.local_best:Iteration 501/1000, cost: 2.6746401932464863e-24\n",
      "INFO:pyswarms.single.local_best:Iteration 601/1000, cost: 4.872170695329052e-26\n",
      "INFO:pyswarms.single.local_best:Iteration 701/1000, cost: 5.9319482775785764e-30\n",
      "INFO:pyswarms.single.local_best:Iteration 801/1000, cost: 3.295477520206381e-35\n",
      "INFO:pyswarms.single.local_best:Iteration 901/1000, cost: 8.248798051323212e-39\n",
      "INFO:pyswarms.single.local_best:================================\n",
      "Optimization finished!\n",
      "Final cost: 0.0000\n",
      "Best value: [1.2996672009688756e-22, 2.7670378917101256e-22]\n",
      "\n"
     ]
    }
   ],
   "source": [
    "# Set-up hyperparameters\n",
    "options = {'c1': 0.5, 'c2': 0.3, 'w':0.9, 'k': 2, 'p': 2}\n",
    "\n",
    "# Call instance of PSO\n",
    "optimizer = ps.single.LocalBestPSO(n_particles=10, dimensions=2, options=options)\n",
    "\n",
    "# Perform optimization\n",
    "cost, pos = optimizer.optimize(fx.sphere_func, print_step=100, iters=1000, verbose=3)"
   ]
  },
  {
   "cell_type": "markdown",
   "metadata": {},
   "source": [
    "## Optimizing a function with bounds\n",
    "Another thing that we can do is to set some bounds into our solution, so as to contain our candidate solutions within a specific range. We can do this simply by passing a `bounds` parameter, of type `tuple`, when creating an instance of our swarm. Let's try this using the global-best PSO with the Rastrigin function (`rastrigin_func` in `pyswarms.utils.functions.single_obj`)."
   ]
  },
  {
   "cell_type": "markdown",
   "metadata": {},
   "source": [
    "Recall that the Rastrigin function is bounded within `[-5.12, 5.12]`. If we pass an unbounded swarm into this function, then a `ValueError` might be raised. So what we'll do is to create a bound within the specified range. There are some things to remember when specifying a bound:\n",
    "\n",
    "* A bound should be of type tuple with length 2. \n",
    "* It should contain two `numpy.ndarrays` so that we have a `(min_bound, max_bound)`\n",
    "* Obviously, all values in the `max_bound` should always be greater than the `min_bound`. Their shapes should match the dimensions of the swarm."
   ]
  },
  {
   "cell_type": "markdown",
   "metadata": {},
   "source": [
    "What we'll do now is to create a 10-particle, 2-dimensional swarm. This means that we have to set our maximum and minimum boundaries with the shape of 2. In case we want to initialize an n-dimensional swarm, we then have to set our bounds with the same shape n. A fast workaround for this would be to use the `numpy.ones` function multiplied by a constant."
   ]
  },
  {
   "cell_type": "code",
   "execution_count": 6,
   "metadata": {},
   "outputs": [],
   "source": [
    "# Create bounds\n",
    "max_bound = 5.12 * np.ones(2)\n",
    "min_bound = - max_bound\n",
    "bounds = (min_bound, max_bound)"
   ]
  },
  {
   "cell_type": "code",
   "execution_count": 7,
   "metadata": {},
   "outputs": [
    {
     "name": "stderr",
     "output_type": "stream",
     "text": [
      "INFO:pyswarms.single.global_best:Iteration 1/1000, cost: 13.954395871900953\n",
      "INFO:pyswarms.single.global_best:Iteration 101/1000, cost: 5.6148841238723435e-05\n",
      "INFO:pyswarms.single.global_best:Iteration 201/1000, cost: 3.839318196696695e-09\n",
      "INFO:pyswarms.single.global_best:Iteration 301/1000, cost: 3.552713678800501e-14\n",
      "INFO:pyswarms.single.global_best:Iteration 401/1000, cost: 0.0\n",
      "INFO:pyswarms.single.global_best:Iteration 501/1000, cost: 0.0\n",
      "INFO:pyswarms.single.global_best:Iteration 601/1000, cost: 0.0\n",
      "INFO:pyswarms.single.global_best:Iteration 701/1000, cost: 0.0\n",
      "INFO:pyswarms.single.global_best:Iteration 801/1000, cost: 0.0\n",
      "INFO:pyswarms.single.global_best:Iteration 901/1000, cost: 0.0\n",
      "INFO:pyswarms.single.global_best:================================\n",
      "Optimization finished!\n",
      "Final cost: 0.0000\n",
      "Best value: [3.683761374071751e-09, -1.376638708449321e-10]\n",
      "\n"
     ]
    }
   ],
   "source": [
    "# Initialize swarm\n",
    "options = {'c1': 0.5, 'c2': 0.3, 'w':0.9}\n",
    "\n",
    "# Call instance of PSO with bounds argument\n",
    "optimizer = ps.single.GlobalBestPSO(n_particles=10, dimensions=2, options=options, bounds=bounds)\n",
    "\n",
    "# Perform optimization\n",
    "cost, pos = optimizer.optimize(fx.rastrigin_func, print_step=100, iters=1000, verbose=3)"
   ]
  }
 ],
 "metadata": {
  "kernelspec": {
   "display_name": "Python 3",
   "language": "python",
   "name": "python3"
  },
  "language_info": {
   "codemirror_mode": {
    "name": "ipython",
    "version": 3
   },
   "file_extension": ".py",
   "mimetype": "text/x-python",
   "name": "python",
   "nbconvert_exporter": "python",
   "pygments_lexer": "ipython3",
   "version": "3.5.4"
  }
 },
 "nbformat": 4,
 "nbformat_minor": 2
}
